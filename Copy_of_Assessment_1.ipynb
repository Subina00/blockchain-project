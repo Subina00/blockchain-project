{
  "nbformat": 4,
  "nbformat_minor": 0,
  "metadata": {
    "colab": {
      "provenance": [],
      "include_colab_link": true
    },
    "kernelspec": {
      "name": "python3",
      "display_name": "Python 3"
    },
    "language_info": {
      "name": "python"
    }
  },
  "cells": [
    {
      "cell_type": "markdown",
      "metadata": {
        "id": "view-in-github",
        "colab_type": "text"
      },
      "source": [
        "<a href=\"https://colab.research.google.com/github/Subina00/blockchain-project/blob/main/Copy_of_Assessment_1.ipynb\" target=\"_parent\"><img src=\"https://colab.research.google.com/assets/colab-badge.svg\" alt=\"Open In Colab\"/></a>"
      ]
    },
    {
      "cell_type": "code",
      "execution_count": 23,
      "metadata": {
        "id": "Gv7x7Ety0GYj",
        "outputId": "e645ece5-1d30-4d97-9919-2128c5393a25",
        "colab": {
          "base_uri": "https://localhost:8080/"
        }
      },
      "outputs": [
        {
          "output_type": "stream",
          "name": "stdout",
          "text": [
            "Mining block 1...\n",
            "Mining block 2...\n",
            "\n",
            "Blockchain validity: None\n",
            "Block 0 | Hash: 3f08822353634a775a2f00dd201b6afffaaedb07307c1782518beb6a7f82cb54 | Previous Hash: 0\n"
          ]
        }
      ],
      "source": [
        "## Import statements\n",
        "import hashlib\n",
        "import time\n",
        "\n",
        "class Block:\n",
        "  # Block instance attributes\n",
        "    def __init__(self, index, previous_hash, timestamp, data, proof):\n",
        "        self.index = index\n",
        "        self.previous_hash = previous_hash\n",
        "        self.timestamp = timestamp\n",
        "        self.data = data\n",
        "        self.proof = proof\n",
        "        self.hash = self.calculate_hash()\n",
        "\n",
        "    def calculate_hash(self):\n",
        "\n",
        "        #Combine block attributes into a string and return the SHA-256 hash.\n",
        "\n",
        "        block_content = f\"{self.index}{self.previous_hash}{self.timestamp}{self.data}{self.proof}\"\n",
        "        return hashlib.sha256(block_content.encode()).hexdigest()\n",
        "\n",
        "\n",
        "\n",
        "class Blockchain:\n",
        "    def __init__(self):\n",
        "        self.chain = [self.create_genesis_block()]\n",
        "        self.difficulty = 4  # Number of leading zeros required in the hash\n",
        "\n",
        "    def create_genesis_block(self):\n",
        "        \"\"\"\n",
        "        Creates the first block with static initial values.\n",
        "        \"\"\"\n",
        "        return Block(0, \"0\", time.time(), \"Genesis Block\", 0)\n",
        "\n",
        "    def get_latest_block(self):\n",
        "        return self.chain[-1]\n",
        "\n",
        "    def add_block(self, new_block):\n",
        "        # TODO: Add a new block to the chain\n",
        "        # Hint: Set the new block's previous_hash to the hash of the latest block\n",
        "        pass\n",
        "\n",
        "    def proof_of_work(self, block):\n",
        "        \"\"\"\n",
        "        Proof-of-work: increment proof until hash starts with N zeros.\n",
        "        \"\"\"\n",
        "        block.proof = 0\n",
        "        block.hash = block.calculate_hash()\n",
        "        while not block.hash.startswith('0' * self.difficulty):\n",
        "            block. proof += 1\n",
        "            block.hash = block.calculate_hash()\n",
        "        return block\n",
        "\n",
        "    def add_data(self, data):\n",
        "        # TODO: Create a new block with the provided data, perform proof of work, and add it to the chain\n",
        "        pass\n",
        "\n",
        "    def is_chain_valid(self):\n",
        "        # TODO: Validate the integrity of the blockchain\n",
        "        # Hint: Check that each block's hash is correct and that the previous_hash matches the hash of the previous block\n",
        "        pass\n",
        "\n",
        "\n",
        "# Example Usage\n",
        "if __name__ == \"__main__\":\n",
        "    blockchain = Blockchain()\n",
        "\n",
        "    print(\"Mining block 1...\")\n",
        "    blockchain.add_data(\"Transaction data for Block 1\")\n",
        "\n",
        "    print(\"Mining block 2...\")\n",
        "    blockchain.add_data(\"Transaction data for Block 2\")\n",
        "\n",
        "    print(\"\\nBlockchain validity:\", blockchain.is_chain_valid())\n",
        "\n",
        "    for block in blockchain.chain:\n",
        "        print(f\"Block {block.index} | Hash: {block.hash} | Previous Hash: {block.previous_hash}\")"
      ]
    },
    {
      "cell_type": "code",
      "source": [],
      "metadata": {
        "id": "rqZtCUzvLg5B"
      },
      "execution_count": null,
      "outputs": []
    },
    {
      "cell_type": "code",
      "source": [],
      "metadata": {
        "id": "mTP9zYWBLg8h"
      },
      "execution_count": null,
      "outputs": []
    },
    {
      "cell_type": "code",
      "source": [],
      "metadata": {
        "id": "vtnLtYNULg-s"
      },
      "execution_count": null,
      "outputs": []
    }
  ]
}