{
  "nbformat": 4,
  "nbformat_minor": 0,
  "metadata": {
    "colab": {
      "provenance": [],
      "include_colab_link": true
    },
    "kernelspec": {
      "name": "python3",
      "display_name": "Python 3"
    },
    "language_info": {
      "name": "python"
    }
  },
  "cells": [
    {
      "cell_type": "markdown",
      "metadata": {
        "id": "view-in-github",
        "colab_type": "text"
      },
      "source": [
        "<a href=\"https://colab.research.google.com/github/Subina00/blockchain-project/blob/main/Copy_of_Assessment_1.ipynb\" target=\"_parent\"><img src=\"https://colab.research.google.com/assets/colab-badge.svg\" alt=\"Open In Colab\"/></a>"
      ]
    },
    {
      "cell_type": "code",
      "execution_count": 32,
      "metadata": {
        "id": "Gv7x7Ety0GYj",
        "outputId": "1c166b3c-3534-46e2-d1a2-5f766bdfd355",
        "colab": {
          "base_uri": "https://localhost:8080/"
        }
      },
      "outputs": [
        {
          "output_type": "stream",
          "name": "stdout",
          "text": [
            "Mining block 1...\n",
            "Mining block 2...\n",
            "\n",
            "Blockchain validity: True\n",
            "Block 0 | Hash: 14ddc50b196cdcb75115b015b130f3e49ac3e625eadd82b0c1e20e3c244a341c | Previous Hash: 0\n",
            "Block 1 | Hash: 0000c23e527c621d13902c6d9403952d0e626b6d5a98f8fd8a400ec83884fb59 | Previous Hash: 14ddc50b196cdcb75115b015b130f3e49ac3e625eadd82b0c1e20e3c244a341c\n",
            "Block 2 | Hash: 000063ee70a817bdc4b3d5155489599bf2f11fcdbd0d543f32e36787b75fd357 | Previous Hash: 0000c23e527c621d13902c6d9403952d0e626b6d5a98f8fd8a400ec83884fb59\n"
          ]
        }
      ],
      "source": [
        "## Import statements\n",
        "import hashlib\n",
        "import time\n",
        "\n",
        "class Block:\n",
        "  # Block instance attributes\n",
        "    def __init__(self, index, previous_hash, timestamp, data, proof):\n",
        "        self.index = index\n",
        "        self.previous_hash = previous_hash\n",
        "        self.timestamp = timestamp\n",
        "        self.data = data\n",
        "        self.proof = proof\n",
        "        self.hash = self.calculate_hash()\n",
        "\n",
        "    def calculate_hash(self):\n",
        "\n",
        "        #Combine block attributes into a string and return the SHA-256 hash.\n",
        "\n",
        "        block_content = f\"{self.index}{self.previous_hash}{self.timestamp}{self.data}{self.proof}\"\n",
        "        return hashlib.sha256(block_content.encode()).hexdigest()\n",
        "\n",
        "\n",
        "\n",
        "class Blockchain:\n",
        "    def __init__(self):\n",
        "        self.chain = [self.create_genesis_block()]\n",
        "        self.difficulty = 4  # Number of leading zeros required in the hash\n",
        "\n",
        "    def create_genesis_block(self):\n",
        "        \"\"\"\n",
        "        Creates the first block with static initial values.\n",
        "        \"\"\"\n",
        "        return Block(0, \"0\", time.time(), \"Genesis Block\", 0)\n",
        "\n",
        "    def get_latest_block(self):\n",
        "        return self.chain[-1]\n",
        "\n",
        "\n",
        "    def proof_of_work(self, block):\n",
        "        \"\"\"\n",
        "        Proof-of-work: increment proof until hash starts with N zeros.\n",
        "        \"\"\"\n",
        "        block.proof = 0\n",
        "        block.hash = block.calculate_hash()\n",
        "        while not block.hash.startswith('0' * self.difficulty):\n",
        "            block. proof += 1\n",
        "            block.hash = block.calculate_hash()\n",
        "        return block\n",
        "\n",
        "    def add_block(self, new_block):\n",
        "        \"\"\"\n",
        "        Adds block after Proof of Work and links it to the previous block.\n",
        "        \"\"\"\n",
        "        new_block.previous_hash = self.get_latest_block().hash\n",
        "        mined_block = self.proof_of_work(new_block)\n",
        "        self.chain.append(mined_block)\n",
        "\n",
        "    def add_data(self, data):\n",
        "        \"\"\"\n",
        "        Creates a new block with given data and adds it to the blockchain.\n",
        "        \"\"\"\n",
        "        new_block = Block(\n",
        "            index=len(self.chain),\n",
        "            previous_hash=self.get_latest_block().hash,\n",
        "            timestamp=time.time(),\n",
        "            data=data,\n",
        "            proof=0\n",
        "        )\n",
        "        self.add_block(new_block)\n",
        "\n",
        "    def is_chain_valid(self):\n",
        "        \"\"\"\n",
        "        Validates blockchain integrity.\n",
        "        \"\"\"\n",
        "        for i in range(1, len(self.chain)):\n",
        "            current = self.chain[i]\n",
        "            previous = self.chain[i - 1]\n",
        "\n",
        "            if current.hash != current.calculate_hash():\n",
        "                print(f\"Hash mismatch at block {current.index}\")\n",
        "                return False\n",
        "\n",
        "            if current.previous_hash != previous.hash:\n",
        "                print(f\"Previous hash mismatch at block {current.index}\")\n",
        "                return False\n",
        "\n",
        "            if not current.hash.startswith('0' * self.difficulty):\n",
        "                print(f\"Proof of work not satisfied at block {current.index}\")\n",
        "                return False\n",
        "\n",
        "        return True\n",
        "\n",
        "\n",
        "# Example Usage\n",
        "if __name__ == \"__main__\":\n",
        "    blockchain = Blockchain()\n",
        "\n",
        "    print(\"Mining block 1...\")\n",
        "    blockchain.add_data(\"Transaction data for Block 1\")\n",
        "\n",
        "    print(\"Mining block 2...\")\n",
        "    blockchain.add_data(\"Transaction data for Block 2\")\n",
        "\n",
        "    print(\"\\nBlockchain validity:\", blockchain.is_chain_valid())\n",
        "\n",
        "    for block in blockchain.chain:\n",
        "        print(f\"Block {block.index} | Hash: {block.hash} | Previous Hash: {block.previous_hash}\")"
      ]
    },
    {
      "cell_type": "code",
      "source": [],
      "metadata": {
        "id": "rqZtCUzvLg5B"
      },
      "execution_count": null,
      "outputs": []
    },
    {
      "cell_type": "code",
      "source": [],
      "metadata": {
        "id": "mTP9zYWBLg8h"
      },
      "execution_count": null,
      "outputs": []
    },
    {
      "cell_type": "code",
      "source": [],
      "metadata": {
        "id": "vtnLtYNULg-s"
      },
      "execution_count": null,
      "outputs": []
    }
  ]
}