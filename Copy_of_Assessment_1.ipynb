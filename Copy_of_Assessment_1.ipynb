{
  "nbformat": 4,
  "nbformat_minor": 0,
  "metadata": {
    "colab": {
      "provenance": [],
      "include_colab_link": true
    },
    "kernelspec": {
      "name": "python3",
      "display_name": "Python 3"
    },
    "language_info": {
      "name": "python"
    }
  },
  "cells": [
    {
      "cell_type": "markdown",
      "metadata": {
        "id": "view-in-github",
        "colab_type": "text"
      },
      "source": [
        "<a href=\"https://colab.research.google.com/github/Subina00/blockchain-project/blob/main/Copy_of_Assessment_1.ipynb\" target=\"_parent\"><img src=\"https://colab.research.google.com/assets/colab-badge.svg\" alt=\"Open In Colab\"/></a>"
      ]
    },
    {
      "cell_type": "code",
      "execution_count": 35,
      "metadata": {
        "id": "Gv7x7Ety0GYj",
        "outputId": "d9c31a17-68b6-462f-a694-726184a25b3a",
        "colab": {
          "base_uri": "https://localhost:8080/"
        }
      },
      "outputs": [
        {
          "output_type": "stream",
          "name": "stdout",
          "text": [
            "Mining block 1...\n",
            "Mining block 2...\n",
            "\n",
            "Blockchain validity: True\n",
            "\n",
            "--- Blockchain Contents ---\n",
            "Block 0\n",
            "Timestamp: Fri Jul 18 11:59:43 2025\n",
            "Data: Genesis Block\n",
            "Hash: 8173556432432e684c3ef62231faf3994f5c8145c6132cdd62a4a4a50e487974\n",
            "Previous Hash: 0\n",
            "Proof: 0\n",
            "--------------------------------------------------\n",
            "Block 1\n",
            "Timestamp: Fri Jul 18 11:59:43 2025\n",
            "Data: Transaction data for Block 1\n",
            "Hash: 0000d2aa3e46591c9f5063120ca5d997486d81d3fd68787fc23fe05af81d6cec\n",
            "Previous Hash: 8173556432432e684c3ef62231faf3994f5c8145c6132cdd62a4a4a50e487974\n",
            "Proof: 119424\n",
            "--------------------------------------------------\n",
            "Block 2\n",
            "Timestamp: Fri Jul 18 11:59:43 2025\n",
            "Data: Transaction data for Block 2\n",
            "Hash: 0000be4ad8457f6021fe522ced4a6da3f870e9b475f9702416c76e988ceddf57\n",
            "Previous Hash: 0000d2aa3e46591c9f5063120ca5d997486d81d3fd68787fc23fe05af81d6cec\n",
            "Proof: 26870\n",
            "--------------------------------------------------\n"
          ]
        }
      ],
      "source": [
        "## Import statements\n",
        "import hashlib\n",
        "import time\n",
        "\n",
        "# ------------------------- BLOCK CLASS -------------------------\n",
        "\n",
        "class Block:\n",
        "  # Block instance attributes\n",
        "    def __init__(self, index, previous_hash, timestamp, data, proof):\n",
        "\n",
        "        self.index = index                # Position of the block in the blockchain\n",
        "        self.previous_hash = previous_hash # Hash of the previous block to maintain linkage\n",
        "        self.timestamp = timestamp        # Time of block creation\n",
        "        self.data = data                  # Transaction data or user input\n",
        "        self.proof = proof                # Proof of work value\n",
        "        self.hash = self.calculate_hash() # Current block's hash\n",
        "\n",
        "    def calculate_hash(self):\n",
        "\n",
        "        \"\"\"\n",
        "        Concatenates block properties to a string and uses the SHA-256 algorithm to create a unique hash.\n",
        "        This makes blocks immutable and integrity assured.\n",
        "        \"\"\"\n",
        "\n",
        "        block_content = f\"{self.index}{self.previous_hash}{self.timestamp}{self.data}{self.proof}\"\n",
        "        return hashlib.sha256(block_content.encode()).hexdigest()\n",
        "\n",
        "\n",
        "\n",
        "class Blockchain:\n",
        "    def __init__(self):\n",
        "        self.chain = [self.create_genesis_block()]\n",
        "        self.difficulty = 4  # Number of leading zeros required in the hash\n",
        "\n",
        "    def create_genesis_block(self):\n",
        "        \"\"\"\n",
        "        Creates the first block with static initial values.\n",
        "        \"\"\"\n",
        "        return Block(0, \"0\", time.time(), \"Genesis Block\", 0)\n",
        "\n",
        "    def get_latest_block(self):\n",
        "        return self.chain[-1]\n",
        "\n",
        "\n",
        "    def proof_of_work(self, block):\n",
        "        \"\"\"\n",
        "        Proof-of-work: increment proof until hash starts with N zeros.\n",
        "        \"\"\"\n",
        "        block.proof = 0\n",
        "        block.hash = block.calculate_hash()\n",
        "        while not block.hash.startswith('0' * self.difficulty):\n",
        "            block. proof += 1\n",
        "            block.hash = block.calculate_hash()\n",
        "        return block\n",
        "\n",
        "    def add_block(self, new_block):\n",
        "        \"\"\"\n",
        "        Adds block after Proof of Work and links it to the previous block.\n",
        "        \"\"\"\n",
        "        new_block.previous_hash = self.get_latest_block().hash\n",
        "        mined_block = self.proof_of_work(new_block)\n",
        "        self.chain.append(mined_block)\n",
        "\n",
        "    def add_data(self, data):\n",
        "        \"\"\"\n",
        "        Creates a new block with given data and adds it to the blockchain.\n",
        "        \"\"\"\n",
        "        new_block = Block(\n",
        "            index=len(self.chain),\n",
        "            previous_hash=self.get_latest_block().hash,\n",
        "            timestamp=time.time(),\n",
        "            data=data,\n",
        "            proof=0\n",
        "        )\n",
        "        self.add_block(new_block)\n",
        "\n",
        "    def is_chain_valid(self):\n",
        "        \"\"\"\n",
        "        Validates blockchain integrity.\n",
        "        \"\"\"\n",
        "        for i in range(1, len(self.chain)):\n",
        "            current = self.chain[i]\n",
        "            previous = self.chain[i - 1]\n",
        "\n",
        "            if current.hash != current.calculate_hash():\n",
        "                print(f\"Hash mismatch at block {current.index}\")\n",
        "                return False\n",
        "\n",
        "            if current.previous_hash != previous.hash:\n",
        "                print(f\"Previous hash mismatch at block {current.index}\")\n",
        "                return False\n",
        "\n",
        "            if not current.hash.startswith('0' * self.difficulty):\n",
        "                print(f\"Proof of work not satisfied at block {current.index}\")\n",
        "                return False\n",
        "\n",
        "        return True\n",
        "\n",
        "\n",
        "# Example Usage\n",
        "if __name__ == \"__main__\":\n",
        "    blockchain = Blockchain()\n",
        "\n",
        "    print(\"Mining block 1...\")\n",
        "    blockchain.add_data(\"Transaction data for Block 1\")\n",
        "\n",
        "    print(\"Mining block 2...\")\n",
        "    blockchain.add_data(\"Transaction data for Block 2\")\n",
        "\n",
        "    print(\"\\nBlockchain validity:\", blockchain.is_chain_valid())\n",
        "\n",
        "    print(\"\\n--- Blockchain Contents ---\")\n",
        "    for block in blockchain.chain:\n",
        "        print(f\"Block {block.index}\")\n",
        "        print(f\"Timestamp: {time.ctime(block.timestamp)}\")\n",
        "        print(f\"Data: {block.data}\")\n",
        "        print(f\"Hash: {block.hash}\")\n",
        "        print(f\"Previous Hash: {block.previous_hash}\")\n",
        "        print(f\"Proof: {block.proof}\")\n",
        "        print(\"-\" * 50)\n",
        "\n"
      ]
    },
    {
      "cell_type": "code",
      "source": [],
      "metadata": {
        "id": "rqZtCUzvLg5B"
      },
      "execution_count": null,
      "outputs": []
    },
    {
      "cell_type": "code",
      "source": [],
      "metadata": {
        "id": "mTP9zYWBLg8h"
      },
      "execution_count": null,
      "outputs": []
    },
    {
      "cell_type": "code",
      "source": [],
      "metadata": {
        "id": "vtnLtYNULg-s"
      },
      "execution_count": null,
      "outputs": []
    }
  ]
}